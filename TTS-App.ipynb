{
 "cells": [
  {
   "cell_type": "code",
   "execution_count": 20,
   "id": "edb1a534-a57e-4543-939c-23596eedbd90",
   "metadata": {},
   "outputs": [],
   "source": [
    "# Online Text-to-speech Application \n",
    "from tkinter import *\n",
    "from gtts import gTTS\n",
    "from playsound import playsound\n",
    "\n",
    "# Initialize window\n",
    "\n",
    "root = Tk()\n",
    "root.geometry(\"350x300\") \n",
    "root.configure(bg='ghost white')\n",
    "root.title(\"Text To Speech App\")\n",
    "\n",
    "# Layout and content of App\n",
    "\n",
    "Label(root, text = \"TEXT_TO_SPEECH\", font = \"arial 20 bold\", bg='white smoke').pack()\n",
    "Label(text =\"Ajith@2024\", font = 'helvetica 15', bg ='white smoke' , width = '20').pack(side = 'bottom')\n",
    "\n",
    "Msg = StringVar()\n",
    "Label(root,text =\"Enter Text\", font = 'arial 15 bold', bg ='white smoke').place(x=20,y=60)\n",
    "\n",
    "entry_field = Entry(root, textvariable = Msg ,width ='50')\n",
    "entry_field.place(x=20,y=100)\n",
    "\n",
    "def Text_to_speech():\n",
    "    Message = entry_field.get()\n",
    "    speech = gTTS(text = Message)\n",
    "    speech.save('TTS.mp3')\n",
    "    playsound('TTS.mp3')\n",
    "\n",
    "def Exit():\n",
    "    root.destroy()\n",
    "\n",
    "def Reset():\n",
    "    Msg.set(\"\")\n",
    "\n",
    "Button(root, text = \" PLAY \", font = 'arial 14 bold' , command = Text_to_speech ,width = '4').place(x=25,y=140)\n",
    "\n",
    "Button(root, font = 'arial 14 bold',text = ' EXIT ', width = '4' , command = Exit, bg = 'OrangeRed1').place(x=100 , y = 140)\n",
    "\n",
    "Button(root, font = 'arial 14 bold',text = ' RESET ', width = '6' , command = Reset).place(x=175 , y = 140)\n",
    "\n",
    "root.mainloop()\n"
   ]
  },
  {
   "cell_type": "code",
   "execution_count": 12,
   "id": "b9300591-fbb2-4e5d-9893-2cec5e787d48",
   "metadata": {},
   "outputs": [
    {
     "name": "stdin",
     "output_type": "stream",
     "text": [
      "Enter a text to speek :  j\n"
     ]
    }
   ],
   "source": [
    "# Offline Text-to-speech Application \n",
    "\n",
    "import pyttsx3  \n",
    "# initialize Text-to-speech engine  \n",
    "engine = pyttsx3.init()  \n",
    "# Input a Text to be Converted to speech from user\n",
    "text = input('Enter a text to speek : ')\n",
    "engine.say(text)  \n",
    "# play the speech  \n",
    "engine.runAndWait()  "
   ]
  },
  {
   "cell_type": "code",
   "execution_count": null,
   "id": "b4b7ea03-e4ba-45e5-a3bd-1a7b38f64995",
   "metadata": {},
   "outputs": [],
   "source": []
  }
 ],
 "metadata": {
  "kernelspec": {
   "display_name": "Python 3 (ipykernel)",
   "language": "python",
   "name": "python3"
  },
  "language_info": {
   "codemirror_mode": {
    "name": "ipython",
    "version": 3
   },
   "file_extension": ".py",
   "mimetype": "text/x-python",
   "name": "python",
   "nbconvert_exporter": "python",
   "pygments_lexer": "ipython3",
   "version": "3.12.1"
  }
 },
 "nbformat": 4,
 "nbformat_minor": 5
}
